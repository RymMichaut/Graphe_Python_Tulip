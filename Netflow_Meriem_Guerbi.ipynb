{
 "cells": [
  {
   "cell_type": "markdown",
   "metadata": {},
   "source": [
    "# Introduction / problématique\n",
    "On souhaite analyser les connexions au réseau d'une université autrichienne.\n",
    "Un routeur Netflow a effectué une surveillance sur le réseau et a restitué des données Netflow contenues dans le fichier dataset.netflow.\n",
    "\n",
    "Il semblerait qu'une attaque ait été perpetrée. Il faut détecter l'adresse IP de la machine qui a subi cette attaque.\n",
    "\n"
   ]
  },
  {
   "cell_type": "markdown",
   "metadata": {},
   "source": [
    "# Import des données et des bibliothèques"
   ]
  },
  {
   "cell_type": "code",
   "execution_count": 1,
   "metadata": {
    "collapsed": true
   },
   "outputs": [],
   "source": [
    "import pandas as pd\n",
    "from pandas import Grouper\n",
    "import numpy as np\n",
    "import csv"
   ]
  },
  {
   "cell_type": "code",
   "execution_count": 2,
   "metadata": {
    "collapsed": true
   },
   "outputs": [],
   "source": [
    "import datetime as dt\n",
    "from datetime import *\n",
    "import time"
   ]
  },
  {
   "cell_type": "code",
   "execution_count": 3,
   "metadata": {
    "collapsed": true
   },
   "outputs": [],
   "source": [
    "import itertools\n",
    "from itertools import groupby"
   ]
  },
  {
   "cell_type": "code",
   "execution_count": 5,
   "metadata": {
    "collapsed": true
   },
   "outputs": [],
   "source": [
    "#importer les données dans un dataframe nommé df\n",
    "df = pd.read_csv('dataset.netflow', index_col=False, low_memory=False)"
   ]
  },
  {
   "cell_type": "markdown",
   "metadata": {},
   "source": [
    "# Exploration des données"
   ]
  },
  {
   "cell_type": "code",
   "execution_count": null,
   "metadata": {
    "collapsed": true
   },
   "outputs": [],
   "source": [
    "#dimension du dataframe\n",
    "print('La dimension du dataframe est : ', df.shape)"
   ]
  },
  {
   "cell_type": "code",
   "execution_count": null,
   "metadata": {
    "collapsed": true
   },
   "outputs": [],
   "source": [
    "#afficher les 5 premières lignes du dataframe\n",
    "df.head()"
   ]
  },
  {
   "cell_type": "code",
   "execution_count": null,
   "metadata": {
    "collapsed": true
   },
   "outputs": [],
   "source": [
    "#type de chacune des variables:\n",
    "df.dtypes"
   ]
  },
  {
   "cell_type": "markdown",
   "metadata": {},
   "source": [
    "# Manipulation / transformation des données"
   ]
  },
  {
   "cell_type": "markdown",
   "metadata": {},
   "source": [
    "# Nettoyage du dataframe"
   ]
  },
  {
   "cell_type": "markdown",
   "metadata": {},
   "source": [
    "## Renommer les variables\n",
    "\n",
    "Cela permet de les manipuler lors de l'utilisation de focntions diverses"
   ]
  },
  {
   "cell_type": "code",
   "execution_count": 6,
   "metadata": {
    "scrolled": false
   },
   "outputs": [
    {
     "data": {
      "text/html": [
       "<div>\n",
       "<style>\n",
       "    .dataframe thead tr:only-child th {\n",
       "        text-align: right;\n",
       "    }\n",
       "\n",
       "    .dataframe thead th {\n",
       "        text-align: left;\n",
       "    }\n",
       "\n",
       "    .dataframe tbody tr th {\n",
       "        vertical-align: top;\n",
       "    }\n",
       "</style>\n",
       "<table border=\"1\" class=\"dataframe\">\n",
       "  <thead>\n",
       "    <tr style=\"text-align: right;\">\n",
       "      <th></th>\n",
       "      <th>Datetime</th>\n",
       "      <th>Durat</th>\n",
       "      <th>Prot</th>\n",
       "      <th>dir</th>\n",
       "      <th>Flags</th>\n",
       "      <th>Tos</th>\n",
       "      <th>Packets</th>\n",
       "      <th>Bytes</th>\n",
       "      <th>Flows</th>\n",
       "      <th>SourceIP</th>\n",
       "      <th>SourcePort</th>\n",
       "      <th>DestIP</th>\n",
       "      <th>DestPort</th>\n",
       "    </tr>\n",
       "  </thead>\n",
       "  <tbody>\n",
       "    <tr>\n",
       "      <th>0</th>\n",
       "      <td>2011-08-18 10:19:13.328</td>\n",
       "      <td>0.002</td>\n",
       "      <td>TCP</td>\n",
       "      <td>-&gt;</td>\n",
       "      <td>FRPA_</td>\n",
       "      <td>0.0</td>\n",
       "      <td>4.0</td>\n",
       "      <td>321.0</td>\n",
       "      <td>1.0</td>\n",
       "      <td>147.32.86.166</td>\n",
       "      <td>33426</td>\n",
       "      <td>212.24.150.110</td>\n",
       "      <td>25443</td>\n",
       "    </tr>\n",
       "    <tr>\n",
       "      <th>1</th>\n",
       "      <td>2011-08-18 10:19:13.328</td>\n",
       "      <td>4.995</td>\n",
       "      <td>UDP</td>\n",
       "      <td>-&gt;</td>\n",
       "      <td>INT</td>\n",
       "      <td>0.0</td>\n",
       "      <td>617.0</td>\n",
       "      <td>40095.0</td>\n",
       "      <td>1.0</td>\n",
       "      <td>82.39.2.249</td>\n",
       "      <td>41915</td>\n",
       "      <td>147.32.84.59</td>\n",
       "      <td>43087</td>\n",
       "    </tr>\n",
       "    <tr>\n",
       "      <th>2</th>\n",
       "      <td>2011-08-18 10:19:13.329</td>\n",
       "      <td>4.996</td>\n",
       "      <td>UDP</td>\n",
       "      <td>-&gt;</td>\n",
       "      <td>INT</td>\n",
       "      <td>0.0</td>\n",
       "      <td>1290.0</td>\n",
       "      <td>1909200.0</td>\n",
       "      <td>1.0</td>\n",
       "      <td>147.32.84.59</td>\n",
       "      <td>43087</td>\n",
       "      <td>82.39.2.249</td>\n",
       "      <td>41915</td>\n",
       "    </tr>\n",
       "    <tr>\n",
       "      <th>3</th>\n",
       "      <td>2011-08-18 10:19:13.330</td>\n",
       "      <td>0.000</td>\n",
       "      <td>TCP</td>\n",
       "      <td>-&gt;</td>\n",
       "      <td>A_</td>\n",
       "      <td>0.0</td>\n",
       "      <td>1.0</td>\n",
       "      <td>66.0</td>\n",
       "      <td>1.0</td>\n",
       "      <td>147.32.86.166</td>\n",
       "      <td>42020</td>\n",
       "      <td>147.32.192.34</td>\n",
       "      <td>993</td>\n",
       "    </tr>\n",
       "    <tr>\n",
       "      <th>4</th>\n",
       "      <td>2011-08-18 10:19:13.330</td>\n",
       "      <td>0.000</td>\n",
       "      <td>TCP</td>\n",
       "      <td>-&gt;</td>\n",
       "      <td>FPA_</td>\n",
       "      <td>0.0</td>\n",
       "      <td>2.0</td>\n",
       "      <td>169.0</td>\n",
       "      <td>1.0</td>\n",
       "      <td>212.24.150.110</td>\n",
       "      <td>25443</td>\n",
       "      <td>147.32.86.166</td>\n",
       "      <td>33426</td>\n",
       "    </tr>\n",
       "  </tbody>\n",
       "</table>\n",
       "</div>"
      ],
      "text/plain": [
       "                  Datetime  Durat Prot dir  Flags  Tos    Packets      Bytes  \\\n",
       "0  2011-08-18 10:19:13.328  0.002  TCP  ->  FRPA_  0.0        4.0      321.0   \n",
       "1  2011-08-18 10:19:13.328  4.995  UDP  ->    INT  0.0      617.0    40095.0   \n",
       "2  2011-08-18 10:19:13.329  4.996  UDP  ->    INT  0.0     1290.0  1909200.0   \n",
       "3  2011-08-18 10:19:13.330  0.000  TCP  ->     A_  0.0        1.0       66.0   \n",
       "4  2011-08-18 10:19:13.330  0.000  TCP  ->   FPA_  0.0        2.0      169.0   \n",
       "\n",
       "   Flows        SourceIP SourcePort          DestIP DestPort  \n",
       "0    1.0   147.32.86.166      33426  212.24.150.110    25443  \n",
       "1    1.0     82.39.2.249      41915    147.32.84.59    43087  \n",
       "2    1.0    147.32.84.59      43087     82.39.2.249    41915  \n",
       "3    1.0   147.32.86.166      42020   147.32.192.34      993  \n",
       "4    1.0  212.24.150.110      25443   147.32.86.166    33426  "
      ]
     },
     "execution_count": 6,
     "metadata": {},
     "output_type": "execute_result"
    }
   ],
   "source": [
    "#renommer la colonne \"Date flow start\" pour retirer les espaces\n",
    "df.rename(columns={'Date flow start':'Datetime'},inplace = True)\n",
    "df.head()"
   ]
  },
  {
   "cell_type": "markdown",
   "metadata": {},
   "source": [
    "On remarque qu'il y a un espace avant Packets ce qui nous posera problème au moment de la manipulation de cette colonne."
   ]
  },
  {
   "cell_type": "code",
   "execution_count": 7,
   "metadata": {},
   "outputs": [
    {
     "data": {
      "text/plain": [
       "Datetime      5180851\n",
       "Durat         5179568\n",
       "Prot          5179568\n",
       "dir           5179568\n",
       "Flags         5179568\n",
       "Tos           5179568\n",
       "Packets       5179568\n",
       "Bytes         5179568\n",
       "Flows         5179568\n",
       "SourceIP      5179568\n",
       "SourcePort    4806834\n",
       "DestIP        5179568\n",
       "DestPort      4804903\n",
       "dtype: int64"
      ]
     },
     "execution_count": 7,
     "metadata": {},
     "output_type": "execute_result"
    }
   ],
   "source": [
    "#retrait de l'espace avant \"Packets\"\n",
    "df.rename(columns={'  Packets':'Packets'},inplace = True)\n",
    "df.count()"
   ]
  },
  {
   "cell_type": "markdown",
   "metadata": {},
   "source": [
    "## Retrait des variables inutiles"
   ]
  },
  {
   "cell_type": "markdown",
   "metadata": {},
   "source": [
    "Etant donné que l'on souhaite trouver une anomalie au niveau des connexions, je ne garde que les sources d'information relatives à cette recherche, à savoir: \"IP Source\", \"IP de destination\", \"Port de destination\", \"nombre de paquets émis\" et bien entendu les \"dates\" et surtout \"heures\" d'émission des paquets."
   ]
  },
  {
   "cell_type": "code",
   "execution_count": 8,
   "metadata": {},
   "outputs": [
    {
     "name": "stdout",
     "output_type": "stream",
     "text": [
      "Il ne reste plus que:  8 variables dans le dataframe: \n"
     ]
    },
    {
     "data": {
      "text/html": [
       "<div>\n",
       "<style>\n",
       "    .dataframe thead tr:only-child th {\n",
       "        text-align: right;\n",
       "    }\n",
       "\n",
       "    .dataframe thead th {\n",
       "        text-align: left;\n",
       "    }\n",
       "\n",
       "    .dataframe tbody tr th {\n",
       "        vertical-align: top;\n",
       "    }\n",
       "</style>\n",
       "<table border=\"1\" class=\"dataframe\">\n",
       "  <thead>\n",
       "    <tr style=\"text-align: right;\">\n",
       "      <th></th>\n",
       "      <th>Datetime</th>\n",
       "      <th>Durat</th>\n",
       "      <th>Prot</th>\n",
       "      <th>Packets</th>\n",
       "      <th>Bytes</th>\n",
       "      <th>SourceIP</th>\n",
       "      <th>DestIP</th>\n",
       "      <th>DestPort</th>\n",
       "    </tr>\n",
       "  </thead>\n",
       "  <tbody>\n",
       "    <tr>\n",
       "      <th>0</th>\n",
       "      <td>2011-08-18 10:19:13.328</td>\n",
       "      <td>0.002</td>\n",
       "      <td>TCP</td>\n",
       "      <td>4.0</td>\n",
       "      <td>321.0</td>\n",
       "      <td>147.32.86.166</td>\n",
       "      <td>212.24.150.110</td>\n",
       "      <td>25443</td>\n",
       "    </tr>\n",
       "    <tr>\n",
       "      <th>1</th>\n",
       "      <td>2011-08-18 10:19:13.328</td>\n",
       "      <td>4.995</td>\n",
       "      <td>UDP</td>\n",
       "      <td>617.0</td>\n",
       "      <td>40095.0</td>\n",
       "      <td>82.39.2.249</td>\n",
       "      <td>147.32.84.59</td>\n",
       "      <td>43087</td>\n",
       "    </tr>\n",
       "    <tr>\n",
       "      <th>2</th>\n",
       "      <td>2011-08-18 10:19:13.329</td>\n",
       "      <td>4.996</td>\n",
       "      <td>UDP</td>\n",
       "      <td>1290.0</td>\n",
       "      <td>1909200.0</td>\n",
       "      <td>147.32.84.59</td>\n",
       "      <td>82.39.2.249</td>\n",
       "      <td>41915</td>\n",
       "    </tr>\n",
       "    <tr>\n",
       "      <th>3</th>\n",
       "      <td>2011-08-18 10:19:13.330</td>\n",
       "      <td>0.000</td>\n",
       "      <td>TCP</td>\n",
       "      <td>1.0</td>\n",
       "      <td>66.0</td>\n",
       "      <td>147.32.86.166</td>\n",
       "      <td>147.32.192.34</td>\n",
       "      <td>993</td>\n",
       "    </tr>\n",
       "    <tr>\n",
       "      <th>4</th>\n",
       "      <td>2011-08-18 10:19:13.330</td>\n",
       "      <td>0.000</td>\n",
       "      <td>TCP</td>\n",
       "      <td>2.0</td>\n",
       "      <td>169.0</td>\n",
       "      <td>212.24.150.110</td>\n",
       "      <td>147.32.86.166</td>\n",
       "      <td>33426</td>\n",
       "    </tr>\n",
       "  </tbody>\n",
       "</table>\n",
       "</div>"
      ],
      "text/plain": [
       "                  Datetime  Durat Prot  Packets      Bytes        SourceIP  \\\n",
       "0  2011-08-18 10:19:13.328  0.002  TCP      4.0      321.0   147.32.86.166   \n",
       "1  2011-08-18 10:19:13.328  4.995  UDP    617.0    40095.0     82.39.2.249   \n",
       "2  2011-08-18 10:19:13.329  4.996  UDP   1290.0  1909200.0    147.32.84.59   \n",
       "3  2011-08-18 10:19:13.330  0.000  TCP      1.0       66.0   147.32.86.166   \n",
       "4  2011-08-18 10:19:13.330  0.000  TCP      2.0      169.0  212.24.150.110   \n",
       "\n",
       "           DestIP DestPort  \n",
       "0  212.24.150.110    25443  \n",
       "1    147.32.84.59    43087  \n",
       "2     82.39.2.249    41915  \n",
       "3   147.32.192.34      993  \n",
       "4   147.32.86.166    33426  "
      ]
     },
     "execution_count": 8,
     "metadata": {},
     "output_type": "execute_result"
    }
   ],
   "source": [
    "df_drop = df.drop(['Flags','SourcePort', 'Tos', 'Flows', 'dir'], axis=1)\n",
    "print(\"Il ne reste plus que: \", len(df_drop.columns), \"variables dans le dataframe: \")\n",
    "df_drop.head()"
   ]
  },
  {
   "cell_type": "markdown",
   "metadata": {},
   "source": [
    "## Retrait des valeurs na"
   ]
  },
  {
   "cell_type": "code",
   "execution_count": 9,
   "metadata": {},
   "outputs": [
    {
     "name": "stdout",
     "output_type": "stream",
     "text": [
      "A chaque variable correspond le nombre de valeurs na: \n",
      "Datetime         0\n",
      "Durat         1283\n",
      "Prot          1283\n",
      "Packets       1283\n",
      "Bytes         1283\n",
      "SourceIP      1283\n",
      "DestIP        1283\n",
      "DestPort    375948\n",
      "dtype: int64\n"
     ]
    }
   ],
   "source": [
    "#nombre de valeurs na dans le dataframe\n",
    "na_values = len(df_drop) - df_drop.count()\n",
    "print(\"A chaque variable correspond le nombre de valeurs na: \")\n",
    "print(na_values)"
   ]
  },
  {
   "cell_type": "code",
   "execution_count": 10,
   "metadata": {
    "scrolled": true
   },
   "outputs": [
    {
     "data": {
      "text/plain": [
       "Datetime    4804903\n",
       "Durat       4804903\n",
       "Prot        4804903\n",
       "Packets     4804903\n",
       "Bytes       4804903\n",
       "SourceIP    4804903\n",
       "DestIP      4804903\n",
       "DestPort    4804903\n",
       "dtype: int64"
      ]
     },
     "execution_count": 10,
     "metadata": {},
     "output_type": "execute_result"
    }
   ],
   "source": [
    "#retirer les valeurs NaN de la variable DestPort\n",
    "df_drop = df_drop[pd.notnull(df_drop['DestPort'])]\n",
    "df_drop.count()"
   ]
  },
  {
   "cell_type": "markdown",
   "metadata": {},
   "source": [
    "On remarque maintenant que le nombre de lignes est le même pour toutes les variables/colonnes"
   ]
  },
  {
   "cell_type": "code",
   "execution_count": null,
   "metadata": {
    "collapsed": true
   },
   "outputs": [],
   "source": [
    "#vérification du nouveau nombre de valeurs NaN dans le dataframe\n",
    "na_values_2 = len(df_drop) - df_drop.count()\n",
    "print(\"A chaque variable correspond le nombre de valeurs na: \")\n",
    "print(na_values_2)"
   ]
  },
  {
   "cell_type": "markdown",
   "metadata": {},
   "source": [
    "Les variables n'ont plus de valeurs na, cela signifie que les valeurs na étaient communes à toutes ces variables "
   ]
  },
  {
   "cell_type": "markdown",
   "metadata": {},
   "source": [
    "### Réduction du jeu de données / retrait des données insignifiantes"
   ]
  },
  {
   "cell_type": "code",
   "execution_count": 11,
   "metadata": {
    "scrolled": true
   },
   "outputs": [
    {
     "name": "stdout",
     "output_type": "stream",
     "text": [
      "Datetime    113563\n",
      "Durat       113563\n",
      "Prot        113563\n",
      "Packets     113563\n",
      "Bytes       113563\n",
      "SourceIP    113563\n",
      "DestIP      113563\n",
      "DestPort    113563\n",
      "dtype: int64\n",
      "Le jeu de données est-il un dataframe? True\n"
     ]
    }
   ],
   "source": [
    "#suppression de toutes les lignes où le nombre de paquets est inférieur à 50\n",
    "df_final = df_drop[df_drop[\"Packets\"]>50]\n",
    "print(df_final.count())\n",
    "print(\"Le jeu de données est-il un dataframe?\" , isinstance (df_final, pd.DataFrame))"
   ]
  },
  {
   "cell_type": "markdown",
   "metadata": {},
   "source": [
    "Le nettoyage de données nous fait passer de 5180851 de lignes à 113563. "
   ]
  },
  {
   "cell_type": "markdown",
   "metadata": {},
   "source": [
    "## Transformation du type des variables"
   ]
  },
  {
   "cell_type": "code",
   "execution_count": null,
   "metadata": {
    "collapsed": true
   },
   "outputs": [],
   "source": [
    "df_final.dtypes"
   ]
  },
  {
   "cell_type": "markdown",
   "metadata": {},
   "source": [
    "Les variables \"Durat\" (Durée de connexion), \"Packets\" (nombre de paquets envoyés) et \"Bytes\" (nombre de bytes) sont au bon format : \"float\".\n",
    "Cependant, il serait préférable de convertir la variable \"Datetime\" au format adéquat."
   ]
  },
  {
   "cell_type": "code",
   "execution_count": 12,
   "metadata": {},
   "outputs": [
    {
     "data": {
      "text/plain": [
       "Datetime    datetime64[ns]\n",
       "Durat              float64\n",
       "Prot                object\n",
       "Packets            float64\n",
       "Bytes              float64\n",
       "SourceIP            object\n",
       "DestIP              object\n",
       "DestPort            object\n",
       "dtype: object"
      ]
     },
     "execution_count": 12,
     "metadata": {},
     "output_type": "execute_result"
    }
   ],
   "source": [
    "df_final = pd.DataFrame(df_final)\n",
    "df_final[\"Datetime\"] = pd.to_datetime(df_final[\"Datetime\"])\n",
    "df_final.dtypes"
   ]
  },
  {
   "cell_type": "markdown",
   "metadata": {},
   "source": [
    "Etant donné que nous recherchons un comportement inhabituel dans les échanges de paquets, nous procédons au retrait des paquets dont la valeur est inférieure à 50 (valeur \"normale\")"
   ]
  },
  {
   "cell_type": "markdown",
   "metadata": {},
   "source": [
    "# Exploration approfondie du jeu de données"
   ]
  },
  {
   "cell_type": "markdown",
   "metadata": {},
   "source": [
    "### Exploration des données en terme d'échange de paquets et de connexions"
   ]
  },
  {
   "cell_type": "code",
   "execution_count": 13,
   "metadata": {
    "scrolled": true
   },
   "outputs": [
    {
     "data": {
      "text/html": [
       "<div>\n",
       "<style>\n",
       "    .dataframe thead tr:only-child th {\n",
       "        text-align: right;\n",
       "    }\n",
       "\n",
       "    .dataframe thead th {\n",
       "        text-align: left;\n",
       "    }\n",
       "\n",
       "    .dataframe tbody tr th {\n",
       "        vertical-align: top;\n",
       "    }\n",
       "</style>\n",
       "<table border=\"1\" class=\"dataframe\">\n",
       "  <thead>\n",
       "    <tr style=\"text-align: right;\">\n",
       "      <th></th>\n",
       "      <th>Datetime</th>\n",
       "      <th>Durat</th>\n",
       "      <th>Prot</th>\n",
       "      <th>Packets</th>\n",
       "      <th>Bytes</th>\n",
       "      <th>SourceIP</th>\n",
       "      <th>DestIP</th>\n",
       "      <th>DestPort</th>\n",
       "    </tr>\n",
       "  </thead>\n",
       "  <tbody>\n",
       "    <tr>\n",
       "      <th>3489185</th>\n",
       "      <td>2011-08-18 13:39:04.034</td>\n",
       "      <td>4.999</td>\n",
       "      <td>TCP</td>\n",
       "      <td>110189.0</td>\n",
       "      <td>166813983.0</td>\n",
       "      <td>147.32.127.222</td>\n",
       "      <td>147.32.86.148</td>\n",
       "      <td>36060</td>\n",
       "    </tr>\n",
       "    <tr>\n",
       "      <th>3489184</th>\n",
       "      <td>2011-08-18 13:39:04.034</td>\n",
       "      <td>4.999</td>\n",
       "      <td>TCP</td>\n",
       "      <td>102705.0</td>\n",
       "      <td>6998227.0</td>\n",
       "      <td>147.32.86.148</td>\n",
       "      <td>147.32.127.222</td>\n",
       "      <td>80</td>\n",
       "    </tr>\n",
       "    <tr>\n",
       "      <th>3495352</th>\n",
       "      <td>2011-08-18 13:39:24.034</td>\n",
       "      <td>4.999</td>\n",
       "      <td>TCP</td>\n",
       "      <td>101740.0</td>\n",
       "      <td>154033984.0</td>\n",
       "      <td>147.32.127.222</td>\n",
       "      <td>147.32.86.148</td>\n",
       "      <td>36060</td>\n",
       "    </tr>\n",
       "    <tr>\n",
       "      <th>3490817</th>\n",
       "      <td>2011-08-18 13:39:09.034</td>\n",
       "      <td>4.999</td>\n",
       "      <td>TCP</td>\n",
       "      <td>99887.0</td>\n",
       "      <td>151227470.0</td>\n",
       "      <td>147.32.127.222</td>\n",
       "      <td>147.32.86.148</td>\n",
       "      <td>36060</td>\n",
       "    </tr>\n",
       "    <tr>\n",
       "      <th>3495350</th>\n",
       "      <td>2011-08-18 13:39:24.034</td>\n",
       "      <td>4.999</td>\n",
       "      <td>TCP</td>\n",
       "      <td>95485.0</td>\n",
       "      <td>6555058.0</td>\n",
       "      <td>147.32.86.148</td>\n",
       "      <td>147.32.127.222</td>\n",
       "      <td>80</td>\n",
       "    </tr>\n",
       "  </tbody>\n",
       "</table>\n",
       "</div>"
      ],
      "text/plain": [
       "                       Datetime  Durat Prot   Packets        Bytes  \\\n",
       "3489185 2011-08-18 13:39:04.034  4.999  TCP  110189.0  166813983.0   \n",
       "3489184 2011-08-18 13:39:04.034  4.999  TCP  102705.0    6998227.0   \n",
       "3495352 2011-08-18 13:39:24.034  4.999  TCP  101740.0  154033984.0   \n",
       "3490817 2011-08-18 13:39:09.034  4.999  TCP   99887.0  151227470.0   \n",
       "3495350 2011-08-18 13:39:24.034  4.999  TCP   95485.0    6555058.0   \n",
       "\n",
       "               SourceIP          DestIP DestPort  \n",
       "3489185  147.32.127.222   147.32.86.148    36060  \n",
       "3489184   147.32.86.148  147.32.127.222       80  \n",
       "3495352  147.32.127.222   147.32.86.148    36060  \n",
       "3490817  147.32.127.222   147.32.86.148    36060  \n",
       "3495350   147.32.86.148  147.32.127.222       80  "
      ]
     },
     "execution_count": 13,
     "metadata": {},
     "output_type": "execute_result"
    }
   ],
   "source": [
    "#classer le jeu de données par ordre décroissant du nombre de paquets:\n",
    "df_sort = df_final.sort_values(\"Packets\", ascending=False)\n",
    "df_sort.head()"
   ]
  },
  {
   "cell_type": "markdown",
   "metadata": {},
   "source": [
    "On remarque que sur les 20 plus grandes valeurs de paquets envoyés, un échange s'effectue entre une adresse IP source et une adresse IP de destination qui sont les mêmes et ce plusieurs fois."
   ]
  },
  {
   "cell_type": "code",
   "execution_count": 14,
   "metadata": {},
   "outputs": [
    {
     "name": "stdout",
     "output_type": "stream",
     "text": [
      "20522\n"
     ]
    },
    {
     "data": {
      "text/html": [
       "<div>\n",
       "<style>\n",
       "    .dataframe thead tr:only-child th {\n",
       "        text-align: right;\n",
       "    }\n",
       "\n",
       "    .dataframe thead th {\n",
       "        text-align: left;\n",
       "    }\n",
       "\n",
       "    .dataframe tbody tr th {\n",
       "        vertical-align: top;\n",
       "    }\n",
       "</style>\n",
       "<table border=\"1\" class=\"dataframe\">\n",
       "  <thead>\n",
       "    <tr style=\"text-align: right;\">\n",
       "      <th></th>\n",
       "      <th>Datetime</th>\n",
       "      <th>Durat</th>\n",
       "      <th>Prot</th>\n",
       "      <th>Packets</th>\n",
       "      <th>Bytes</th>\n",
       "      <th>SourceIP</th>\n",
       "      <th>DestIP</th>\n",
       "      <th>DestPort</th>\n",
       "    </tr>\n",
       "  </thead>\n",
       "  <tbody>\n",
       "    <tr>\n",
       "      <th>3489184</th>\n",
       "      <td>2011-08-18 13:39:04.034</td>\n",
       "      <td>4.999</td>\n",
       "      <td>TCP</td>\n",
       "      <td>102705.0</td>\n",
       "      <td>6998227.0</td>\n",
       "      <td>147.32.86.148</td>\n",
       "      <td>147.32.127.222</td>\n",
       "      <td>80</td>\n",
       "    </tr>\n",
       "    <tr>\n",
       "      <th>3495350</th>\n",
       "      <td>2011-08-18 13:39:24.034</td>\n",
       "      <td>4.999</td>\n",
       "      <td>TCP</td>\n",
       "      <td>95485.0</td>\n",
       "      <td>6555058.0</td>\n",
       "      <td>147.32.86.148</td>\n",
       "      <td>147.32.127.222</td>\n",
       "      <td>80</td>\n",
       "    </tr>\n",
       "    <tr>\n",
       "      <th>3490816</th>\n",
       "      <td>2011-08-18 13:39:09.034</td>\n",
       "      <td>4.999</td>\n",
       "      <td>TCP</td>\n",
       "      <td>94286.0</td>\n",
       "      <td>6431668.0</td>\n",
       "      <td>147.32.86.148</td>\n",
       "      <td>147.32.127.222</td>\n",
       "      <td>80</td>\n",
       "    </tr>\n",
       "    <tr>\n",
       "      <th>3498708</th>\n",
       "      <td>2011-08-18 13:39:34.034</td>\n",
       "      <td>4.999</td>\n",
       "      <td>TCP</td>\n",
       "      <td>84829.0</td>\n",
       "      <td>5812910.0</td>\n",
       "      <td>147.32.86.148</td>\n",
       "      <td>147.32.127.222</td>\n",
       "      <td>80</td>\n",
       "    </tr>\n",
       "    <tr>\n",
       "      <th>3497142</th>\n",
       "      <td>2011-08-18 13:39:29.034</td>\n",
       "      <td>4.999</td>\n",
       "      <td>TCP</td>\n",
       "      <td>82445.0</td>\n",
       "      <td>5654174.0</td>\n",
       "      <td>147.32.86.148</td>\n",
       "      <td>147.32.127.222</td>\n",
       "      <td>80</td>\n",
       "    </tr>\n",
       "  </tbody>\n",
       "</table>\n",
       "</div>"
      ],
      "text/plain": [
       "                       Datetime  Durat Prot   Packets      Bytes  \\\n",
       "3489184 2011-08-18 13:39:04.034  4.999  TCP  102705.0  6998227.0   \n",
       "3495350 2011-08-18 13:39:24.034  4.999  TCP   95485.0  6555058.0   \n",
       "3490816 2011-08-18 13:39:09.034  4.999  TCP   94286.0  6431668.0   \n",
       "3498708 2011-08-18 13:39:34.034  4.999  TCP   84829.0  5812910.0   \n",
       "3497142 2011-08-18 13:39:29.034  4.999  TCP   82445.0  5654174.0   \n",
       "\n",
       "              SourceIP          DestIP DestPort  \n",
       "3489184  147.32.86.148  147.32.127.222       80  \n",
       "3495350  147.32.86.148  147.32.127.222       80  \n",
       "3490816  147.32.86.148  147.32.127.222       80  \n",
       "3498708  147.32.86.148  147.32.127.222       80  \n",
       "3497142  147.32.86.148  147.32.127.222       80  "
      ]
     },
     "execution_count": 14,
     "metadata": {},
     "output_type": "execute_result"
    }
   ],
   "source": [
    "#extraire les lignes où le port de destination est 80 (internet)\n",
    "df_Internet = df_sort.loc[df_sort[\"DestPort\"] == \"80\"]\n",
    "print(len(df_Internet.index))\n",
    "df_Internet.head()"
   ]
  },
  {
   "cell_type": "code",
   "execution_count": 20,
   "metadata": {},
   "outputs": [
    {
     "name": "stdout",
     "output_type": "stream",
     "text": [
      "3196\n"
     ]
    },
    {
     "data": {
      "text/html": [
       "<div>\n",
       "<style>\n",
       "    .dataframe thead tr:only-child th {\n",
       "        text-align: right;\n",
       "    }\n",
       "\n",
       "    .dataframe thead th {\n",
       "        text-align: left;\n",
       "    }\n",
       "\n",
       "    .dataframe tbody tr th {\n",
       "        vertical-align: top;\n",
       "    }\n",
       "</style>\n",
       "<table border=\"1\" class=\"dataframe\">\n",
       "  <thead>\n",
       "    <tr style=\"text-align: right;\">\n",
       "      <th></th>\n",
       "      <th>Datetime</th>\n",
       "      <th>Durat</th>\n",
       "      <th>Prot</th>\n",
       "      <th>Packets</th>\n",
       "      <th>Bytes</th>\n",
       "      <th>SourceIP</th>\n",
       "      <th>DestIP</th>\n",
       "      <th>DestPort</th>\n",
       "    </tr>\n",
       "  </thead>\n",
       "  <tbody>\n",
       "    <tr>\n",
       "      <th>1526235</th>\n",
       "      <td>2011-08-18 11:53:11.663</td>\n",
       "      <td>4.999</td>\n",
       "      <td>UDP</td>\n",
       "      <td>1002.0</td>\n",
       "      <td>788734.0</td>\n",
       "      <td>147.32.84.192</td>\n",
       "      <td>147.32.96.69</td>\n",
       "      <td>0</td>\n",
       "    </tr>\n",
       "    <tr>\n",
       "      <th>1526236</th>\n",
       "      <td>2011-08-18 11:53:11.663</td>\n",
       "      <td>4.999</td>\n",
       "      <td>UDP</td>\n",
       "      <td>1002.0</td>\n",
       "      <td>788743.0</td>\n",
       "      <td>147.32.84.204</td>\n",
       "      <td>147.32.96.69</td>\n",
       "      <td>0</td>\n",
       "    </tr>\n",
       "    <tr>\n",
       "      <th>1526281</th>\n",
       "      <td>2011-08-18 11:53:11.772</td>\n",
       "      <td>4.998</td>\n",
       "      <td>UDP</td>\n",
       "      <td>1002.0</td>\n",
       "      <td>788724.0</td>\n",
       "      <td>147.32.84.193</td>\n",
       "      <td>147.32.96.69</td>\n",
       "      <td>0</td>\n",
       "    </tr>\n",
       "    <tr>\n",
       "      <th>1526344</th>\n",
       "      <td>2011-08-18 11:53:12.066</td>\n",
       "      <td>4.999</td>\n",
       "      <td>UDP</td>\n",
       "      <td>1002.0</td>\n",
       "      <td>788731.0</td>\n",
       "      <td>147.32.84.205</td>\n",
       "      <td>147.32.96.69</td>\n",
       "      <td>0</td>\n",
       "    </tr>\n",
       "    <tr>\n",
       "      <th>1547249</th>\n",
       "      <td>2011-08-18 11:54:31.793</td>\n",
       "      <td>4.997</td>\n",
       "      <td>UDP</td>\n",
       "      <td>1000.0</td>\n",
       "      <td>787135.0</td>\n",
       "      <td>147.32.84.165</td>\n",
       "      <td>147.32.96.69</td>\n",
       "      <td>0</td>\n",
       "    </tr>\n",
       "  </tbody>\n",
       "</table>\n",
       "</div>"
      ],
      "text/plain": [
       "                       Datetime  Durat Prot  Packets     Bytes       SourceIP  \\\n",
       "1526235 2011-08-18 11:53:11.663  4.999  UDP   1002.0  788734.0  147.32.84.192   \n",
       "1526236 2011-08-18 11:53:11.663  4.999  UDP   1002.0  788743.0  147.32.84.204   \n",
       "1526281 2011-08-18 11:53:11.772  4.998  UDP   1002.0  788724.0  147.32.84.193   \n",
       "1526344 2011-08-18 11:53:12.066  4.999  UDP   1002.0  788731.0  147.32.84.205   \n",
       "1547249 2011-08-18 11:54:31.793  4.997  UDP   1000.0  787135.0  147.32.84.165   \n",
       "\n",
       "               DestIP DestPort  \n",
       "1526235  147.32.96.69        0  \n",
       "1526236  147.32.96.69        0  \n",
       "1526281  147.32.96.69        0  \n",
       "1526344  147.32.96.69        0  \n",
       "1547249  147.32.96.69        0  "
      ]
     },
     "execution_count": 20,
     "metadata": {},
     "output_type": "execute_result"
    }
   ],
   "source": [
    "#extraire les lignes où l'adresse IP de destination est 147.32.96.69:\n",
    "df_Destination = df_sort.loc[df_sort[\"DestIP\"] == \"147.32.96.69\"]\n",
    "print(len(df_Destination.index))\n",
    "df_Destination.head()"
   ]
  },
  {
   "cell_type": "markdown",
   "metadata": {},
   "source": [
    "L'IP de destination \"147.32.127.222\" est attaquée 9 fois par l'IP \"147.32.86.148\" avec un nombre de paquets de l'ordre de plusieurs dizaines de milliers en moins de 34 millièmes de secondes."
   ]
  },
  {
   "cell_type": "code",
   "execution_count": 19,
   "metadata": {},
   "outputs": [
    {
     "name": "stdout",
     "output_type": "stream",
     "text": [
      "3196\n"
     ]
    },
    {
     "data": {
      "text/html": [
       "<div>\n",
       "<style>\n",
       "    .dataframe thead tr:only-child th {\n",
       "        text-align: right;\n",
       "    }\n",
       "\n",
       "    .dataframe thead th {\n",
       "        text-align: left;\n",
       "    }\n",
       "\n",
       "    .dataframe tbody tr th {\n",
       "        vertical-align: top;\n",
       "    }\n",
       "</style>\n",
       "<table border=\"1\" class=\"dataframe\">\n",
       "  <thead>\n",
       "    <tr style=\"text-align: right;\">\n",
       "      <th></th>\n",
       "      <th>Datetime</th>\n",
       "      <th>Durat</th>\n",
       "      <th>Prot</th>\n",
       "      <th>Packets</th>\n",
       "      <th>Bytes</th>\n",
       "      <th>SourceIP</th>\n",
       "      <th>DestIP</th>\n",
       "      <th>DestPort</th>\n",
       "    </tr>\n",
       "  </thead>\n",
       "  <tbody>\n",
       "    <tr>\n",
       "      <th>1526235</th>\n",
       "      <td>2011-08-18 11:53:11.663</td>\n",
       "      <td>4.999</td>\n",
       "      <td>UDP</td>\n",
       "      <td>1002.0</td>\n",
       "      <td>788734.0</td>\n",
       "      <td>147.32.84.192</td>\n",
       "      <td>147.32.96.69</td>\n",
       "      <td>0</td>\n",
       "    </tr>\n",
       "    <tr>\n",
       "      <th>1526236</th>\n",
       "      <td>2011-08-18 11:53:11.663</td>\n",
       "      <td>4.999</td>\n",
       "      <td>UDP</td>\n",
       "      <td>1002.0</td>\n",
       "      <td>788743.0</td>\n",
       "      <td>147.32.84.204</td>\n",
       "      <td>147.32.96.69</td>\n",
       "      <td>0</td>\n",
       "    </tr>\n",
       "    <tr>\n",
       "      <th>1526281</th>\n",
       "      <td>2011-08-18 11:53:11.772</td>\n",
       "      <td>4.998</td>\n",
       "      <td>UDP</td>\n",
       "      <td>1002.0</td>\n",
       "      <td>788724.0</td>\n",
       "      <td>147.32.84.193</td>\n",
       "      <td>147.32.96.69</td>\n",
       "      <td>0</td>\n",
       "    </tr>\n",
       "    <tr>\n",
       "      <th>1526344</th>\n",
       "      <td>2011-08-18 11:53:12.066</td>\n",
       "      <td>4.999</td>\n",
       "      <td>UDP</td>\n",
       "      <td>1002.0</td>\n",
       "      <td>788731.0</td>\n",
       "      <td>147.32.84.205</td>\n",
       "      <td>147.32.96.69</td>\n",
       "      <td>0</td>\n",
       "    </tr>\n",
       "    <tr>\n",
       "      <th>1547249</th>\n",
       "      <td>2011-08-18 11:54:31.793</td>\n",
       "      <td>4.997</td>\n",
       "      <td>UDP</td>\n",
       "      <td>1000.0</td>\n",
       "      <td>787135.0</td>\n",
       "      <td>147.32.84.165</td>\n",
       "      <td>147.32.96.69</td>\n",
       "      <td>0</td>\n",
       "    </tr>\n",
       "  </tbody>\n",
       "</table>\n",
       "</div>"
      ],
      "text/plain": [
       "                       Datetime  Durat Prot  Packets     Bytes       SourceIP  \\\n",
       "1526235 2011-08-18 11:53:11.663  4.999  UDP   1002.0  788734.0  147.32.84.192   \n",
       "1526236 2011-08-18 11:53:11.663  4.999  UDP   1002.0  788743.0  147.32.84.204   \n",
       "1526281 2011-08-18 11:53:11.772  4.998  UDP   1002.0  788724.0  147.32.84.193   \n",
       "1526344 2011-08-18 11:53:12.066  4.999  UDP   1002.0  788731.0  147.32.84.205   \n",
       "1547249 2011-08-18 11:54:31.793  4.997  UDP   1000.0  787135.0  147.32.84.165   \n",
       "\n",
       "               DestIP DestPort  \n",
       "1526235  147.32.96.69        0  \n",
       "1526236  147.32.96.69        0  \n",
       "1526281  147.32.96.69        0  \n",
       "1526344  147.32.96.69        0  \n",
       "1547249  147.32.96.69        0  "
      ]
     },
     "execution_count": 19,
     "metadata": {},
     "output_type": "execute_result"
    }
   ],
   "source": [
    "#extraire les lignes où l'adresse IP source est 147.32.96.69:\n",
    "df_Source = df_sort.loc[df_sort[\"DestIP\"] == \"147.32.96.69\"]\n",
    "print(len(df_Source.index))\n",
    "df_Source.head()"
   ]
  },
  {
   "cell_type": "code",
   "execution_count": 18,
   "metadata": {},
   "outputs": [
    {
     "name": "stdout",
     "output_type": "stream",
     "text": [
      "L'adresse IP 147.32.84.59 effectue : 13028 échanges\n"
     ]
    },
    {
     "data": {
      "text/html": [
       "<div>\n",
       "<style>\n",
       "    .dataframe thead tr:only-child th {\n",
       "        text-align: right;\n",
       "    }\n",
       "\n",
       "    .dataframe thead th {\n",
       "        text-align: left;\n",
       "    }\n",
       "\n",
       "    .dataframe tbody tr th {\n",
       "        vertical-align: top;\n",
       "    }\n",
       "</style>\n",
       "<table border=\"1\" class=\"dataframe\">\n",
       "  <thead>\n",
       "    <tr style=\"text-align: right;\">\n",
       "      <th></th>\n",
       "      <th>Datetime</th>\n",
       "      <th>Durat</th>\n",
       "      <th>Prot</th>\n",
       "      <th>Packets</th>\n",
       "      <th>Bytes</th>\n",
       "      <th>SourceIP</th>\n",
       "      <th>DestIP</th>\n",
       "      <th>DestPort</th>\n",
       "    </tr>\n",
       "  </thead>\n",
       "  <tbody>\n",
       "    <tr>\n",
       "      <th>1</th>\n",
       "      <td>2011-08-18 10:19:13.328</td>\n",
       "      <td>4.995</td>\n",
       "      <td>UDP</td>\n",
       "      <td>617.0</td>\n",
       "      <td>40095.0</td>\n",
       "      <td>82.39.2.249</td>\n",
       "      <td>147.32.84.59</td>\n",
       "      <td>43087</td>\n",
       "    </tr>\n",
       "    <tr>\n",
       "      <th>12</th>\n",
       "      <td>2011-08-18 10:19:13.341</td>\n",
       "      <td>4.975</td>\n",
       "      <td>TCP</td>\n",
       "      <td>780.0</td>\n",
       "      <td>1107080.0</td>\n",
       "      <td>192.221.106.126</td>\n",
       "      <td>147.32.84.59</td>\n",
       "      <td>2774</td>\n",
       "    </tr>\n",
       "    <tr>\n",
       "      <th>18</th>\n",
       "      <td>2011-08-18 10:19:13.346</td>\n",
       "      <td>4.998</td>\n",
       "      <td>UDP</td>\n",
       "      <td>126.0</td>\n",
       "      <td>8571.0</td>\n",
       "      <td>114.78.14.160</td>\n",
       "      <td>147.32.84.59</td>\n",
       "      <td>43087</td>\n",
       "    </tr>\n",
       "    <tr>\n",
       "      <th>38</th>\n",
       "      <td>2011-08-18 10:19:13.385</td>\n",
       "      <td>4.937</td>\n",
       "      <td>UDP</td>\n",
       "      <td>201.0</td>\n",
       "      <td>12870.0</td>\n",
       "      <td>24.4.101.240</td>\n",
       "      <td>147.32.84.59</td>\n",
       "      <td>43087</td>\n",
       "    </tr>\n",
       "    <tr>\n",
       "      <th>72</th>\n",
       "      <td>2011-08-18 10:19:13.458</td>\n",
       "      <td>4.743</td>\n",
       "      <td>TCP</td>\n",
       "      <td>496.0</td>\n",
       "      <td>748976.0</td>\n",
       "      <td>74.125.108.208</td>\n",
       "      <td>147.32.84.59</td>\n",
       "      <td>2768</td>\n",
       "    </tr>\n",
       "  </tbody>\n",
       "</table>\n",
       "</div>"
      ],
      "text/plain": [
       "                  Datetime  Durat Prot  Packets      Bytes         SourceIP  \\\n",
       "1  2011-08-18 10:19:13.328  4.995  UDP    617.0    40095.0      82.39.2.249   \n",
       "12 2011-08-18 10:19:13.341  4.975  TCP    780.0  1107080.0  192.221.106.126   \n",
       "18 2011-08-18 10:19:13.346  4.998  UDP    126.0     8571.0    114.78.14.160   \n",
       "38 2011-08-18 10:19:13.385  4.937  UDP    201.0    12870.0     24.4.101.240   \n",
       "72 2011-08-18 10:19:13.458  4.743  TCP    496.0   748976.0   74.125.108.208   \n",
       "\n",
       "          DestIP DestPort  \n",
       "1   147.32.84.59    43087  \n",
       "12  147.32.84.59     2774  \n",
       "18  147.32.84.59    43087  \n",
       "38  147.32.84.59    43087  \n",
       "72  147.32.84.59     2768  "
      ]
     },
     "execution_count": 18,
     "metadata": {},
     "output_type": "execute_result"
    }
   ],
   "source": [
    "#compter le nombre de fois où DestIP vaut 147.32.84.59\n",
    "df_count_147 = df_final[df_final.DestIP==\"147.32.84.59\"]\n",
    "print(\"L'adresse IP 147.32.84.59 effectue :\", len(df_count_147), \"échanges\")\n",
    "df_count_147.head()"
   ]
  },
  {
   "cell_type": "code",
   "execution_count": 21,
   "metadata": {},
   "outputs": [
    {
     "name": "stdout",
     "output_type": "stream",
     "text": [
      "L'adresse IP 195.113.232.828 effectue : 35 échanges\n"
     ]
    },
    {
     "data": {
      "text/html": [
       "<div>\n",
       "<style>\n",
       "    .dataframe thead tr:only-child th {\n",
       "        text-align: right;\n",
       "    }\n",
       "\n",
       "    .dataframe thead th {\n",
       "        text-align: left;\n",
       "    }\n",
       "\n",
       "    .dataframe tbody tr th {\n",
       "        vertical-align: top;\n",
       "    }\n",
       "</style>\n",
       "<table border=\"1\" class=\"dataframe\">\n",
       "  <thead>\n",
       "    <tr style=\"text-align: right;\">\n",
       "      <th></th>\n",
       "      <th>Datetime</th>\n",
       "      <th>Durat</th>\n",
       "      <th>Prot</th>\n",
       "      <th>Packets</th>\n",
       "      <th>Bytes</th>\n",
       "      <th>SourceIP</th>\n",
       "      <th>DestIP</th>\n",
       "      <th>DestPort</th>\n",
       "    </tr>\n",
       "  </thead>\n",
       "  <tbody>\n",
       "    <tr>\n",
       "      <th>36099</th>\n",
       "      <td>2011-08-18 10:21:35.499</td>\n",
       "      <td>1.407</td>\n",
       "      <td>TCP</td>\n",
       "      <td>63.0</td>\n",
       "      <td>12255.0</td>\n",
       "      <td>147.32.86.148</td>\n",
       "      <td>195.113.232.82</td>\n",
       "      <td>80</td>\n",
       "    </tr>\n",
       "    <tr>\n",
       "      <th>36120</th>\n",
       "      <td>2011-08-18 10:21:35.543</td>\n",
       "      <td>1.375</td>\n",
       "      <td>TCP</td>\n",
       "      <td>64.0</td>\n",
       "      <td>11724.0</td>\n",
       "      <td>147.32.86.148</td>\n",
       "      <td>195.113.232.82</td>\n",
       "      <td>80</td>\n",
       "    </tr>\n",
       "    <tr>\n",
       "      <th>36127</th>\n",
       "      <td>2011-08-18 10:21:35.548</td>\n",
       "      <td>1.371</td>\n",
       "      <td>TCP</td>\n",
       "      <td>56.0</td>\n",
       "      <td>12378.0</td>\n",
       "      <td>147.32.86.148</td>\n",
       "      <td>195.113.232.82</td>\n",
       "      <td>80</td>\n",
       "    </tr>\n",
       "    <tr>\n",
       "      <th>36128</th>\n",
       "      <td>2011-08-18 10:21:35.548</td>\n",
       "      <td>1.377</td>\n",
       "      <td>TCP</td>\n",
       "      <td>65.0</td>\n",
       "      <td>12603.0</td>\n",
       "      <td>147.32.86.148</td>\n",
       "      <td>195.113.232.82</td>\n",
       "      <td>80</td>\n",
       "    </tr>\n",
       "    <tr>\n",
       "      <th>36130</th>\n",
       "      <td>2011-08-18 10:21:35.549</td>\n",
       "      <td>1.371</td>\n",
       "      <td>TCP</td>\n",
       "      <td>58.0</td>\n",
       "      <td>10805.0</td>\n",
       "      <td>147.32.86.148</td>\n",
       "      <td>195.113.232.82</td>\n",
       "      <td>80</td>\n",
       "    </tr>\n",
       "  </tbody>\n",
       "</table>\n",
       "</div>"
      ],
      "text/plain": [
       "                     Datetime  Durat Prot  Packets    Bytes       SourceIP  \\\n",
       "36099 2011-08-18 10:21:35.499  1.407  TCP     63.0  12255.0  147.32.86.148   \n",
       "36120 2011-08-18 10:21:35.543  1.375  TCP     64.0  11724.0  147.32.86.148   \n",
       "36127 2011-08-18 10:21:35.548  1.371  TCP     56.0  12378.0  147.32.86.148   \n",
       "36128 2011-08-18 10:21:35.548  1.377  TCP     65.0  12603.0  147.32.86.148   \n",
       "36130 2011-08-18 10:21:35.549  1.371  TCP     58.0  10805.0  147.32.86.148   \n",
       "\n",
       "               DestIP DestPort  \n",
       "36099  195.113.232.82       80  \n",
       "36120  195.113.232.82       80  \n",
       "36127  195.113.232.82       80  \n",
       "36128  195.113.232.82       80  \n",
       "36130  195.113.232.82       80  "
      ]
     },
     "execution_count": 21,
     "metadata": {},
     "output_type": "execute_result"
    }
   ],
   "source": [
    "#compter le nombre de fois où DestIP vaut 195.113.232.82\n",
    "df_count_195 = df_final[df_final.DestIP==\"195.113.232.82\"]\n",
    "print(\"L'adresse IP 195.113.232.828 effectue :\", len(df_count_195), \"échanges\")\n",
    "df_count_195.head()"
   ]
  },
  {
   "cell_type": "markdown",
   "metadata": {},
   "source": [
    "### Subdivision des données sur la variable \"Prot\""
   ]
  },
  {
   "cell_type": "code",
   "execution_count": 22,
   "metadata": {},
   "outputs": [
    {
     "name": "stdout",
     "output_type": "stream",
     "text": [
      "il y a : 14707 valeurs UDP\n",
      "il y a : 98856 valeurs TCP\n",
      "il y a : 0 valeurs ICMP\n",
      "il y a : 0 valeurs PIM\n",
      "il y a : 0 valeurs RTP\n",
      "il y a : 0 valeurs ARP\n",
      "il y a : 0 valeurs RTCP\n",
      "il y a : 0 valeurs IGMP\n",
      "il y a : 0 valeurs IPV6\n",
      "il y a : 0 valeurs ESP\n",
      "il y a : 0 valeurs LLC\n",
      "il y a : 0 valeurs UDT\n"
     ]
    }
   ],
   "source": [
    "UDP = df_final[df_final['Prot']== \"UDP\"]\n",
    "print(\"il y a :\", len(UDP), \"valeurs UDP\")\n",
    "TCP = df_final[df_final['Prot']== \"TCP\"]\n",
    "print(\"il y a :\", len(TCP), \"valeurs TCP\")\n",
    "ICMP = df_final[df_final['Prot']== \"ICMP\"]\n",
    "print(\"il y a :\", len(ICMP), \"valeurs ICMP\")\n",
    "PIM = df_final[df_final['Prot']== \"PIM\"]\n",
    "print(\"il y a :\", len(PIM), \"valeurs PIM\")\n",
    "RTP = df_final[df_final['Prot']== \"RTP\"]\n",
    "print(\"il y a :\", len(RTP), \"valeurs RTP\")\n",
    "ARP = df_final[df_final['Prot']== \"ARP\"]\n",
    "print(\"il y a :\", len(ARP), \"valeurs ARP\")\n",
    "RTCP = df_final[df_final['Prot']== \"RTCP\"]\n",
    "print(\"il y a :\", len(RTCP), \"valeurs RTCP\")\n",
    "IGMP = df_final[df_final['Prot']== \"IGMP\"]\n",
    "print(\"il y a :\", len(IGMP), \"valeurs IGMP\")\n",
    "IPV6 = df_final[df_final['Prot']== \"IPV6\"]\n",
    "print(\"il y a :\", len(IPV6), \"valeurs IPV6\")\n",
    "ESP = df_final[df_final['Prot']== \"ESP\"]\n",
    "print(\"il y a :\", len(ESP), \"valeurs ESP\")\n",
    "LLC = df_final[df_final['Prot']== \"LLC\"]\n",
    "print(\"il y a :\", len(LLC), \"valeurs LLC\")\n",
    "UDT = df_final[df_final['Prot']== \"UDT\"]\n",
    "print(\"il y a :\", len(UDT), \"valeurs UDT\")"
   ]
  },
  {
   "cell_type": "markdown",
   "metadata": {},
   "source": [
    "On remarque qu'il n'y a eu des échanges sur le réseau qu'à travers les protocoles:  \n",
    "- \"UDP\" : protocole orienté \"non connexion\".\n",
    "- \"TCP\" : protocole orienté \"connexion\". Le DestIP renvoie un accusé de réception au SourceIP. \n"
   ]
  },
  {
   "cell_type": "markdown",
   "metadata": {},
   "source": [
    "# Export des données réduites au format csv"
   ]
  },
  {
   "cell_type": "code",
   "execution_count": 23,
   "metadata": {
    "collapsed": true
   },
   "outputs": [],
   "source": [
    "df_final.to_csv(\"Netflow_cleandata.csv\", sep = ';', index = False)"
   ]
  },
  {
   "cell_type": "markdown",
   "metadata": {},
   "source": [
    "## Représentation graphique / théorie des graphes"
   ]
  },
  {
   "cell_type": "markdown",
   "metadata": {},
   "source": [
    "Si l'on souhaite construire un graphe à partir de ces données, il semble évident que les colonnes: \n",
    "- \"SourceIP\" et \"DestIP\" représenteront les noeuds\n",
    "- \"Packets\" représentera le poids des arcs\n",
    "- Les arcs sont ici représentés par l'existence d'une valeur dans les cases SourceIP et DestIP en même temps.\n",
    "\n",
    "Il faut donc commencer par récupérer la liste de toutes les adresses IP.\n",
    "\n",
    "###### Remarque: \n",
    "Il y a des adresses IP qui se retrouvent tantôt dans la colonne Source tantôt dans celle de Destination. \n",
    "La liste des IP ne doit contenir qu'une fois chaque adresse."
   ]
  },
  {
   "cell_type": "markdown",
   "metadata": {},
   "source": [
    "#### Définition du nombre de noeuds dans le graphe"
   ]
  },
  {
   "cell_type": "code",
   "execution_count": 24,
   "metadata": {},
   "outputs": [
    {
     "name": "stdout",
     "output_type": "stream",
     "text": [
      "le nombre d'adresses IP unique dans DestIP est: 2349\n",
      "le nombre d'adresses IP unique dans SourceIP est: 2404\n",
      "Il y a au total:  2943  adresses IP uniques\n"
     ]
    }
   ],
   "source": [
    "#affichage du nombre d'adresse unique dans chaque colonne\n",
    "print(\"le nombre d'adresses IP unique dans DestIP est:\",len(df_final.DestIP.unique()))\n",
    "print(\"le nombre d'adresses IP unique dans SourceIP est:\",len(df_final.SourceIP.unique()))\n",
    "\n",
    "#Construire la liste des adresses IP uniques\n",
    "uniq_dest = np.array(df_final.DestIP.unique()) #récupérer les valeurs uniques de la colonne DestIP\n",
    "uniq_source = np.array(df_final.SourceIP.unique()) #récupérer les valeurs uniques de la colonne SourceIP\n",
    "uniq_IP = np.concatenate([uniq_dest,uniq_source]) #regrouper toutes les valeurs uniques de DestIP et SourceIP\n",
    "uniq_IP = np.unique(uniq_IP) #ne garder que les valeurs uniques\n",
    "print(\"Il y a au total: \", len(uniq_IP), \" adresses IP uniques\")\n"
   ]
  },
  {
   "cell_type": "markdown",
   "metadata": {},
   "source": [
    "Le graphe total compterait donc un total de 2943 noeuds.\n",
    "Afin de simplifier la visualisation des données, je ne les importerai pas dans leur totalité dans l'IDE de Tulip.\n",
    "Je visualiserai les 10 graphes issus de la subdivision temporelle."
   ]
  },
  {
   "cell_type": "markdown",
   "metadata": {},
   "source": [
    "### Subdivision des données sur la variable \"Datetime\""
   ]
  },
  {
   "cell_type": "code",
   "execution_count": 25,
   "metadata": {},
   "outputs": [
    {
     "name": "stdout",
     "output_type": "stream",
     "text": [
      "l'heure de début est:  2011-08-18 10:19:13.328000\n",
      "l'heure de fin est:  2011-08-18 15:04:58.815000\n"
     ]
    }
   ],
   "source": [
    "print(\"l'heure de début est: \", min(df_final[\"Datetime\"]))\n",
    "print(\"l'heure de fin est: \", max(df_final[\"Datetime\"]))"
   ]
  },
  {
   "cell_type": "markdown",
   "metadata": {},
   "source": [
    "On note que les données sont réparties sur 5h le même jour."
   ]
  },
  {
   "cell_type": "code",
   "execution_count": null,
   "metadata": {
    "collapsed": true
   },
   "outputs": [],
   "source": [
    "#Séparer la date des heures\n",
    "df_final_byhour = pd.DataFrame(df_final)\n",
    "df_final_byhour['Date'] = [d.date() for d in df_final['Datetime']]\n",
    "df_final_byhour['Heure'] = [d.time() for d in df_final['Datetime']]\n",
    "del(df_final_byhour['Datetime'])\n",
    "df_final_byhour.head()"
   ]
  },
  {
   "cell_type": "code",
   "execution_count": 27,
   "metadata": {},
   "outputs": [
    {
     "data": {
      "text/html": [
       "<div>\n",
       "<style>\n",
       "    .dataframe thead tr:only-child th {\n",
       "        text-align: right;\n",
       "    }\n",
       "\n",
       "    .dataframe thead th {\n",
       "        text-align: left;\n",
       "    }\n",
       "\n",
       "    .dataframe tbody tr th {\n",
       "        vertical-align: top;\n",
       "    }\n",
       "</style>\n",
       "<table border=\"1\" class=\"dataframe\">\n",
       "  <thead>\n",
       "    <tr style=\"text-align: right;\">\n",
       "      <th></th>\n",
       "      <th>Datetime</th>\n",
       "      <th>Durat</th>\n",
       "      <th>Prot</th>\n",
       "      <th>Packets</th>\n",
       "      <th>Bytes</th>\n",
       "      <th>SourceIP</th>\n",
       "      <th>DestIP</th>\n",
       "      <th>DestPort</th>\n",
       "    </tr>\n",
       "  </thead>\n",
       "  <tbody>\n",
       "    <tr>\n",
       "      <th>1</th>\n",
       "      <td>2011-08-18 10:19:13.328</td>\n",
       "      <td>4.995</td>\n",
       "      <td>UDP</td>\n",
       "      <td>617.0</td>\n",
       "      <td>40095.0</td>\n",
       "      <td>82.39.2.249</td>\n",
       "      <td>147.32.84.59</td>\n",
       "      <td>43087</td>\n",
       "    </tr>\n",
       "    <tr>\n",
       "      <th>2</th>\n",
       "      <td>2011-08-18 10:19:13.329</td>\n",
       "      <td>4.996</td>\n",
       "      <td>UDP</td>\n",
       "      <td>1290.0</td>\n",
       "      <td>1909200.0</td>\n",
       "      <td>147.32.84.59</td>\n",
       "      <td>82.39.2.249</td>\n",
       "      <td>41915</td>\n",
       "    </tr>\n",
       "    <tr>\n",
       "      <th>6</th>\n",
       "      <td>2011-08-18 10:19:13.335</td>\n",
       "      <td>4.978</td>\n",
       "      <td>TCP</td>\n",
       "      <td>311.0</td>\n",
       "      <td>70580.0</td>\n",
       "      <td>80.78.79.156</td>\n",
       "      <td>147.32.86.24</td>\n",
       "      <td>31002</td>\n",
       "    </tr>\n",
       "    <tr>\n",
       "      <th>7</th>\n",
       "      <td>2011-08-18 10:19:13.335</td>\n",
       "      <td>4.978</td>\n",
       "      <td>UDP</td>\n",
       "      <td>292.0</td>\n",
       "      <td>64319.0</td>\n",
       "      <td>147.32.86.24</td>\n",
       "      <td>151.41.188.39</td>\n",
       "      <td>49621</td>\n",
       "    </tr>\n",
       "    <tr>\n",
       "      <th>10</th>\n",
       "      <td>2011-08-18 10:19:13.337</td>\n",
       "      <td>4.988</td>\n",
       "      <td>TCP</td>\n",
       "      <td>204.0</td>\n",
       "      <td>178434.0</td>\n",
       "      <td>188.95.61.42</td>\n",
       "      <td>147.32.86.110</td>\n",
       "      <td>48190</td>\n",
       "    </tr>\n",
       "  </tbody>\n",
       "</table>\n",
       "</div>"
      ],
      "text/plain": [
       "                  Datetime  Durat Prot  Packets      Bytes      SourceIP  \\\n",
       "1  2011-08-18 10:19:13.328  4.995  UDP    617.0    40095.0   82.39.2.249   \n",
       "2  2011-08-18 10:19:13.329  4.996  UDP   1290.0  1909200.0  147.32.84.59   \n",
       "6  2011-08-18 10:19:13.335  4.978  TCP    311.0    70580.0  80.78.79.156   \n",
       "7  2011-08-18 10:19:13.335  4.978  UDP    292.0    64319.0  147.32.86.24   \n",
       "10 2011-08-18 10:19:13.337  4.988  TCP    204.0   178434.0  188.95.61.42   \n",
       "\n",
       "           DestIP DestPort  \n",
       "1    147.32.84.59    43087  \n",
       "2     82.39.2.249    41915  \n",
       "6    147.32.86.24    31002  \n",
       "7   151.41.188.39    49621  \n",
       "10  147.32.86.110    48190  "
      ]
     },
     "execution_count": 27,
     "metadata": {},
     "output_type": "execute_result"
    }
   ],
   "source": [
    "#classer les données par heure croissante:\n",
    "df_date_sort = df_final.sort_values(\"Datetime\", ascending=True)\n",
    "df_date_sort.head()"
   ]
  },
  {
   "cell_type": "code",
   "execution_count": 29,
   "metadata": {},
   "outputs": [],
   "source": [
    "#Séparer le jeu de données en sous jeu de données sur une période de 30 min\n",
    "data = df_final.set_index(\"Datetime\")\n",
    "\n"
   ]
  },
  {
   "cell_type": "code",
   "execution_count": 36,
   "metadata": {},
   "outputs": [],
   "source": [
    "i=0\n",
    "for n,g in data.groupby(pd.Grouper(freq='30T')):\n",
    "    name = n.strftime(\"%Y%m%d%H%M\") + \".csv\"    \n",
    "    g.to_csv(name, sep = \";\")\n",
    "    i = i+1"
   ]
  },
  {
   "cell_type": "markdown",
   "metadata": {},
   "source": [
    "Les données, subdivisées en tranches horaires de 30 minutes et réparties dans des fichiers csv sont dans le dossier."
   ]
  }
 ],
 "metadata": {
  "kernelspec": {
   "display_name": "Python 3",
   "language": "python",
   "name": "python3"
  },
  "language_info": {
   "codemirror_mode": {
    "name": "ipython",
    "version": 3
   },
   "file_extension": ".py",
   "mimetype": "text/x-python",
   "name": "python",
   "nbconvert_exporter": "python",
   "pygments_lexer": "ipython3",
   "version": "3.6.1"
  }
 },
 "nbformat": 4,
 "nbformat_minor": 2
}
